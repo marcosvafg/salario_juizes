{
 "cells": [
  {
   "cell_type": "markdown",
   "metadata": {},
   "source": [
    "# Salários dos Juízes do TJDFT - 12/2017\n",
    "\n",
    "Conforme determinação do Conselho Nacional de Justiça - CNJ ([Portaria n. 63, de 17 de agosto de 2017](http://www.cnj.jus.br/busca-atos-adm?documento=3352)) todos os 90 tribunais brasileiros devem disponibilizar as informações de remuneração dos seus magistrados, em cumprimento à lei de Acesso à Informação. Para padronizar a divulgação desses dados o CNJ criou uma planilha Excel padrão, que deve ser preenchida pelos tribunais, e passou a disponibilizar todas as planilhas em seu site ([Remuneraçao dos Magistrados](http://www.cnj.jus.br/transparencia/remuneracao-dos-magistrados)).\n",
    "\n",
    "Como todas as planilhas são, supostamente, iguais, iremos criar um conjunto de instruções Python para abrir e importar uma planilha, e analisar os dados contidos nela. Além disso, esse Jupyter Notebook servirá como um tutorial introdutório ao uso da biblioteca **pandas** e à análise de dados com Python. Como exemplo usaremos os dados disponibilizados pelo Tribunal de Justiça do Distrito Federal e Territórios - TJDFT, com base na planilha baixada do site do CNJ no dia 07/12/2017.\n",
    "\n",
    "Usando esse notebook como exemplo e a planilha de outro tibunal, qualquer pessoa deve conseguir realizar as mesmas análises, ou até mesmo expandir o trabalho realizado aqui. Obviamente algum tribunal específico pode descumprir a determinação do CNJ e acabar por disponibilizar seus dados em um formato diferente da planilha padrão. Se isso acontecer, mudanças deverão ser realizadas no código, principalmente na parte intitulada **Importando os dados**.\n"
   ]
  },
  {
   "cell_type": "markdown",
   "metadata": {},
   "source": [
    "## Importando os dados\n",
    "\n",
    "Inicialmente é preciso acessar a página específica do CNJ ([Remuneraçao dos Magistrados](http://www.cnj.jus.br/transparencia/remuneracao-dos-magistrados)) e baixar o arquivo referente ao Tribunal de Justiça do Distrito Federal e Territórios. Coloque o arquivo .xls na mesma pasta do Jupyter Notebook (arquivo .ipynb).\n",
    "\n",
    "É importante abrir o arquivo .xls no próprio Excel (ou programa similar) para visualizar o arquivo e entender os dados. Ao abrir o arquivo é possível perceber que existem 5 diferentes planilhas, mas os dados principais estão na primeira planilha, chamada **Contracheque**. Além disso percebemos que as primeiras linhas dessa planilha não contêm dados, mas apenas explicações de preenchimento. O cabeçalho das colunas está nas linhas 19 e 20 (mescladas) e os dados começam da linha 21. A forma mais fácil de resolver esse problema é importar as colunas desejadas, sem cabeçalho, e inserir o cabeçalho posteriormente.\n",
    "\n",
    "Para cada linha temos 17 colunas, a saber: CPF (que não apresenta dados válidos), **Nome**, **Cargo**, **Lotação**, **Subsídio (R\\$)**, Direitos Pessoais(1), Indenizações(2), Direitos Eventuais(3), **Total de Rendimentos(4)**, Previdência Pública(5) (R\\$), Imposto de Renda(6) (R\\$), Descontos Diversos(7) (R\\$), Retenção por Teto Constitucional(8) (R\\$), Total de Descontos(9), **Rendimento Líquido(10)**, Remuneração do órgão de origem(11) (R\\$) e Diárias(12) (R\\$). As colunas em negrito correspondem àquelas que iremos tratar em nossa análise.\n",
    "\n",
    "Os dados serão lidos do arquivo usando as funções das bibliotecas **pandas** e **xlrd**, que permitem importar facilmente uma ou mais planilhas do arquivo Excel, e também permitem a exclusão de linhas indesejadas. Depois de importados, os dados ficarão disponíveis em um **dataframe**."
   ]
  },
  {
   "cell_type": "code",
   "execution_count": 1,
   "metadata": {},
   "outputs": [
    {
     "data": {
      "text/html": [
       "<div>\n",
       "<style scoped>\n",
       "    .dataframe tbody tr th:only-of-type {\n",
       "        vertical-align: middle;\n",
       "    }\n",
       "\n",
       "    .dataframe tbody tr th {\n",
       "        vertical-align: top;\n",
       "    }\n",
       "\n",
       "    .dataframe thead th {\n",
       "        text-align: right;\n",
       "    }\n",
       "</style>\n",
       "<table border=\"1\" class=\"dataframe\">\n",
       "  <thead>\n",
       "    <tr style=\"text-align: right;\">\n",
       "      <th></th>\n",
       "      <th>Nome</th>\n",
       "      <th>Cargo</th>\n",
       "      <th>Lotacao</th>\n",
       "      <th>Subsidio</th>\n",
       "      <th>Rendimento_Bruto</th>\n",
       "      <th>Rendimento_Liquido</th>\n",
       "    </tr>\n",
       "  </thead>\n",
       "  <tbody>\n",
       "    <tr>\n",
       "      <th>0</th>\n",
       "      <td>DELEANE CAMARGO DE SANTANA FERNANDES</td>\n",
       "      <td>JD0001 JUIZ DE DIREITO</td>\n",
       "      <td>99000007 APOSENTADOS</td>\n",
       "      <td>28947.55</td>\n",
       "      <td>28947.55</td>\n",
       "      <td>20512.49</td>\n",
       "    </tr>\n",
       "    <tr>\n",
       "      <th>1</th>\n",
       "      <td>AVAY MIRANDA</td>\n",
       "      <td>JD0001 JUIZ DE DIREITO</td>\n",
       "      <td>99000007 APOSENTADOS</td>\n",
       "      <td>28947.55</td>\n",
       "      <td>34737.06</td>\n",
       "      <td>24052.25</td>\n",
       "    </tr>\n",
       "    <tr>\n",
       "      <th>2</th>\n",
       "      <td>EDUARDO ALBERTO DE MORAES OLIVEIRA</td>\n",
       "      <td>DD0001 DESEMBARGADOR</td>\n",
       "      <td>99000007 APOSENTADOS</td>\n",
       "      <td>30471.11</td>\n",
       "      <td>30471.11</td>\n",
       "      <td>21547.71</td>\n",
       "    </tr>\n",
       "    <tr>\n",
       "      <th>3</th>\n",
       "      <td>JOAO DE ASSIS MARIOSI</td>\n",
       "      <td>DD0001 DESEMBARGADOR</td>\n",
       "      <td>99000007 APOSENTADOS</td>\n",
       "      <td>30471.11</td>\n",
       "      <td>30471.11</td>\n",
       "      <td>27727.74</td>\n",
       "    </tr>\n",
       "    <tr>\n",
       "      <th>4</th>\n",
       "      <td>JOSE HILARIO BATISTA DE VASCONCELOS</td>\n",
       "      <td>DD0001 DESEMBARGADOR</td>\n",
       "      <td>99000007 APOSENTADOS</td>\n",
       "      <td>30471.11</td>\n",
       "      <td>30471.11</td>\n",
       "      <td>21495.57</td>\n",
       "    </tr>\n",
       "  </tbody>\n",
       "</table>\n",
       "</div>"
      ],
      "text/plain": [
       "                                   Nome                   Cargo  \\\n",
       "0  DELEANE CAMARGO DE SANTANA FERNANDES  JD0001 JUIZ DE DIREITO   \n",
       "1                          AVAY MIRANDA  JD0001 JUIZ DE DIREITO   \n",
       "2    EDUARDO ALBERTO DE MORAES OLIVEIRA    DD0001 DESEMBARGADOR   \n",
       "3                 JOAO DE ASSIS MARIOSI    DD0001 DESEMBARGADOR   \n",
       "4   JOSE HILARIO BATISTA DE VASCONCELOS    DD0001 DESEMBARGADOR   \n",
       "\n",
       "                Lotacao  Subsidio  Rendimento_Bruto  Rendimento_Liquido  \n",
       "0  99000007 APOSENTADOS  28947.55          28947.55            20512.49  \n",
       "1  99000007 APOSENTADOS  28947.55          34737.06            24052.25  \n",
       "2  99000007 APOSENTADOS  30471.11          30471.11            21547.71  \n",
       "3  99000007 APOSENTADOS  30471.11          30471.11            27727.74  \n",
       "4  99000007 APOSENTADOS  30471.11          30471.11            21495.57  "
      ]
     },
     "execution_count": 1,
     "metadata": {},
     "output_type": "execute_result"
    }
   ],
   "source": [
    "# Importando a biblioteca pandas\n",
    "import pandas as pd\n",
    "\n",
    "# Importando o arquivo xls\n",
    "# somente a planilha Contracheque -> sheet_name=\"Contracheque\"\n",
    "# descartando o cabecalho -> header=None\n",
    "# descartando as 20 primeiras linhas -> skiprows=20\n",
    "# e importando apenas as colunas selecionados -> usecols=[1, 2, 3, 4, 8, 14]\n",
    "df = pd.read_excel(\"Salarios_Juizes_TJDFT_122017.xls\", sheet_name=\"Contracheque\", header=None,  skiprows=20, usecols=[1, 2, 3, 4, 8, 14])\n",
    "\n",
    "# Incluindo o cabecalho para as 5 colunas importadas\n",
    "df.columns = [\"Nome\", \"Cargo\", \"Lotacao\", \"Subsidio\", \"Rendimento_Bruto\", \"Rendimento_Liquido\"]\n",
    "\n",
    "# Exibindo os 5 primeiros registros importados\n",
    "df.head()"
   ]
  },
  {
   "cell_type": "markdown",
   "metadata": {},
   "source": [
    "## Analisando os dados\n",
    "\n",
    "O pacote **pandas** possui um conjunto de métodos que permitem realizar algumas análises em cima dos dados presentes no **dataframe**. Os comentários em cada célula explicam o que faz cada um dos métodos."
   ]
  },
  {
   "cell_type": "code",
   "execution_count": 2,
   "metadata": {},
   "outputs": [
    {
     "data": {
      "text/html": [
       "<div>\n",
       "<style scoped>\n",
       "    .dataframe tbody tr th:only-of-type {\n",
       "        vertical-align: middle;\n",
       "    }\n",
       "\n",
       "    .dataframe tbody tr th {\n",
       "        vertical-align: top;\n",
       "    }\n",
       "\n",
       "    .dataframe thead th {\n",
       "        text-align: right;\n",
       "    }\n",
       "</style>\n",
       "<table border=\"1\" class=\"dataframe\">\n",
       "  <thead>\n",
       "    <tr style=\"text-align: right;\">\n",
       "      <th></th>\n",
       "      <th>Subsidio</th>\n",
       "      <th>Rendimento_Bruto</th>\n",
       "      <th>Rendimento_Liquido</th>\n",
       "    </tr>\n",
       "  </thead>\n",
       "  <tbody>\n",
       "    <tr>\n",
       "      <th>count</th>\n",
       "      <td>488.000000</td>\n",
       "      <td>488.000000</td>\n",
       "      <td>488.000000</td>\n",
       "    </tr>\n",
       "    <tr>\n",
       "      <th>mean</th>\n",
       "      <td>28859.887131</td>\n",
       "      <td>37489.403279</td>\n",
       "      <td>27700.297869</td>\n",
       "    </tr>\n",
       "    <tr>\n",
       "      <th>std</th>\n",
       "      <td>1643.172464</td>\n",
       "      <td>5133.776290</td>\n",
       "      <td>4340.845772</td>\n",
       "    </tr>\n",
       "    <tr>\n",
       "      <th>min</th>\n",
       "      <td>4238.570000</td>\n",
       "      <td>4238.570000</td>\n",
       "      <td>4101.620000</td>\n",
       "    </tr>\n",
       "    <tr>\n",
       "      <th>25%</th>\n",
       "      <td>28947.550000</td>\n",
       "      <td>34737.060000</td>\n",
       "      <td>27185.252500</td>\n",
       "    </tr>\n",
       "    <tr>\n",
       "      <th>50%</th>\n",
       "      <td>28947.550000</td>\n",
       "      <td>39024.730000</td>\n",
       "      <td>28300.710000</td>\n",
       "    </tr>\n",
       "    <tr>\n",
       "      <th>75%</th>\n",
       "      <td>28947.550000</td>\n",
       "      <td>39723.730000</td>\n",
       "      <td>29086.280000</td>\n",
       "    </tr>\n",
       "    <tr>\n",
       "      <th>max</th>\n",
       "      <td>31167.880000</td>\n",
       "      <td>72106.520000</td>\n",
       "      <td>72031.580000</td>\n",
       "    </tr>\n",
       "  </tbody>\n",
       "</table>\n",
       "</div>"
      ],
      "text/plain": [
       "           Subsidio  Rendimento_Bruto  Rendimento_Liquido\n",
       "count    488.000000        488.000000          488.000000\n",
       "mean   28859.887131      37489.403279        27700.297869\n",
       "std     1643.172464       5133.776290         4340.845772\n",
       "min     4238.570000       4238.570000         4101.620000\n",
       "25%    28947.550000      34737.060000        27185.252500\n",
       "50%    28947.550000      39024.730000        28300.710000\n",
       "75%    28947.550000      39723.730000        29086.280000\n",
       "max    31167.880000      72106.520000        72031.580000"
      ]
     },
     "execution_count": 2,
     "metadata": {},
     "output_type": "execute_result"
    }
   ],
   "source": [
    "# O pandas consegue mostrar um resumo quantitativo dos dados contidos no dataframe\n",
    "# Isso vale apenas para as colunas que contenham valores numéricos\n",
    "df.describe()"
   ]
  },
  {
   "cell_type": "code",
   "execution_count": 3,
   "metadata": {},
   "outputs": [
    {
     "data": {
      "text/plain": [
       "Nome                  488\n",
       "Cargo                 488\n",
       "Lotacao               488\n",
       "Subsidio              488\n",
       "Rendimento_Bruto      488\n",
       "Rendimento_Liquido    488\n",
       "dtype: int64"
      ]
     },
     "execution_count": 3,
     "metadata": {},
     "output_type": "execute_result"
    }
   ],
   "source": [
    "# Quantos magistrados estão na folha de pagamento do TJDFT?\n",
    "df.count()"
   ]
  },
  {
   "cell_type": "code",
   "execution_count": 4,
   "metadata": {},
   "outputs": [
    {
     "name": "stdout",
     "output_type": "stream",
     "text": [
      "O TJDFT possui 488 magistrados\n"
     ]
    }
   ],
   "source": [
    "# É possível contar apenas uma das colunas, fazendo referência direta a\n",
    "# essa coluna no dataframe e depois executando o método count()\n",
    "df[\"Nome\"].count() # ou df.Nome.count()\n",
    "\n",
    "# E também é possível formatar a saída para um texto mais legível\n",
    "print(f\"O TJDFT possui {df.Nome.count()} magistrados\")"
   ]
  },
  {
   "cell_type": "code",
   "execution_count": 5,
   "metadata": {},
   "outputs": [
    {
     "data": {
      "text/plain": [
       "13517745.36"
      ]
     },
     "execution_count": 5,
     "metadata": {},
     "output_type": "execute_result"
    }
   ],
   "source": [
    "# Qual o somatório do salário líquido pago a todos esses magistrados?\n",
    "df.Rendimento_Liquido.sum()"
   ]
  },
  {
   "cell_type": "code",
   "execution_count": 12,
   "metadata": {},
   "outputs": [
    {
     "name": "stdout",
     "output_type": "stream",
     "text": [
      "Em média, um magistrado do TJDFT recebe R$27700.30 de salário líquido por mês.\n"
     ]
    }
   ],
   "source": [
    "# Qual a média salarial dos magistrados do TJDFT?\n",
    "# O valor foi arrendodado para 2 casas decimais\n",
    "print(\"Em média, um magistrado do TJDFT recebe R${0:.2f} de salário líquido por mês.\".format(df.Rendimento_Liquido.mean()))"
   ]
  },
  {
   "cell_type": "code",
   "execution_count": 13,
   "metadata": {},
   "outputs": [
    {
     "data": {
      "text/html": [
       "<div>\n",
       "<style scoped>\n",
       "    .dataframe tbody tr th:only-of-type {\n",
       "        vertical-align: middle;\n",
       "    }\n",
       "\n",
       "    .dataframe tbody tr th {\n",
       "        vertical-align: top;\n",
       "    }\n",
       "\n",
       "    .dataframe thead th {\n",
       "        text-align: right;\n",
       "    }\n",
       "</style>\n",
       "<table border=\"1\" class=\"dataframe\">\n",
       "  <thead>\n",
       "    <tr style=\"text-align: right;\">\n",
       "      <th></th>\n",
       "      <th>Nome</th>\n",
       "      <th>Cargo</th>\n",
       "      <th>Lotacao</th>\n",
       "      <th>Subsidio</th>\n",
       "      <th>Rendimento_Bruto</th>\n",
       "      <th>Rendimento_Liquido</th>\n",
       "    </tr>\n",
       "  </thead>\n",
       "  <tbody>\n",
       "    <tr>\n",
       "      <th>367</th>\n",
       "      <td>GILMAR DE JESUS GOMES DA SILVA</td>\n",
       "      <td>JS0002 JUIZ DE DIREITO SUBSTITUTO DO DF</td>\n",
       "      <td>11801010000 1A. VARA CIVEL DE CEILANDIA</td>\n",
       "      <td>27500.17</td>\n",
       "      <td>72106.52</td>\n",
       "      <td>72031.58</td>\n",
       "    </tr>\n",
       "    <tr>\n",
       "      <th>291</th>\n",
       "      <td>TATIANA IYKIE ASSAO GARCIA</td>\n",
       "      <td>JD0001 JUIZ DE DIREITO</td>\n",
       "      <td>11190010000 VARA DE FAL, REC JUD, INS. CIVIL E...</td>\n",
       "      <td>28947.55</td>\n",
       "      <td>66841.24</td>\n",
       "      <td>66382.42</td>\n",
       "    </tr>\n",
       "    <tr>\n",
       "      <th>240</th>\n",
       "      <td>JAYDER RAMOS DE ARAUJO</td>\n",
       "      <td>JD0001 JUIZ DE DIREITO</td>\n",
       "      <td>11201100000 10A. VARA CIVEL DE BRASILIA</td>\n",
       "      <td>28947.55</td>\n",
       "      <td>52054.72</td>\n",
       "      <td>37851.72</td>\n",
       "    </tr>\n",
       "    <tr>\n",
       "      <th>365</th>\n",
       "      <td>MATHEUS STAMILLO SANTARELLI ZULIANI</td>\n",
       "      <td>JS0002 JUIZ DE DIREITO SUBSTITUTO DO DF</td>\n",
       "      <td>19000012000 NUCLEO PERM DE GESTAO DE METAS DE ...</td>\n",
       "      <td>27500.17</td>\n",
       "      <td>50753.32</td>\n",
       "      <td>36996.16</td>\n",
       "    </tr>\n",
       "    <tr>\n",
       "      <th>198</th>\n",
       "      <td>JULIO ROBERTO DOS REIS</td>\n",
       "      <td>JD0001 JUIZ DE DIREITO</td>\n",
       "      <td>11201300000 25A. VARA CIVEL DE BRASILIA</td>\n",
       "      <td>28947.55</td>\n",
       "      <td>49051.63</td>\n",
       "      <td>36352.17</td>\n",
       "    </tr>\n",
       "  </tbody>\n",
       "</table>\n",
       "</div>"
      ],
      "text/plain": [
       "                                    Nome  \\\n",
       "367       GILMAR DE JESUS GOMES DA SILVA   \n",
       "291           TATIANA IYKIE ASSAO GARCIA   \n",
       "240               JAYDER RAMOS DE ARAUJO   \n",
       "365  MATHEUS STAMILLO SANTARELLI ZULIANI   \n",
       "198               JULIO ROBERTO DOS REIS   \n",
       "\n",
       "                                       Cargo  \\\n",
       "367  JS0002 JUIZ DE DIREITO SUBSTITUTO DO DF   \n",
       "291                   JD0001 JUIZ DE DIREITO   \n",
       "240                   JD0001 JUIZ DE DIREITO   \n",
       "365  JS0002 JUIZ DE DIREITO SUBSTITUTO DO DF   \n",
       "198                   JD0001 JUIZ DE DIREITO   \n",
       "\n",
       "                                               Lotacao  Subsidio  \\\n",
       "367            11801010000 1A. VARA CIVEL DE CEILANDIA  27500.17   \n",
       "291  11190010000 VARA DE FAL, REC JUD, INS. CIVIL E...  28947.55   \n",
       "240            11201100000 10A. VARA CIVEL DE BRASILIA  28947.55   \n",
       "365  19000012000 NUCLEO PERM DE GESTAO DE METAS DE ...  27500.17   \n",
       "198            11201300000 25A. VARA CIVEL DE BRASILIA  28947.55   \n",
       "\n",
       "     Rendimento_Bruto  Rendimento_Liquido  \n",
       "367          72106.52            72031.58  \n",
       "291          66841.24            66382.42  \n",
       "240          52054.72            37851.72  \n",
       "365          50753.32            36996.16  \n",
       "198          49051.63            36352.17  "
      ]
     },
     "execution_count": 13,
     "metadata": {},
     "output_type": "execute_result"
    }
   ],
   "source": [
    "# Quais os 5 maiores salários líquidos?\n",
    "df.nlargest(5, \"Rendimento_Liquido\")"
   ]
  },
  {
   "cell_type": "code",
   "execution_count": 14,
   "metadata": {
    "scrolled": true
   },
   "outputs": [
    {
     "data": {
      "text/html": [
       "<div>\n",
       "<style scoped>\n",
       "    .dataframe tbody tr th:only-of-type {\n",
       "        vertical-align: middle;\n",
       "    }\n",
       "\n",
       "    .dataframe tbody tr th {\n",
       "        vertical-align: top;\n",
       "    }\n",
       "\n",
       "    .dataframe thead th {\n",
       "        text-align: right;\n",
       "    }\n",
       "</style>\n",
       "<table border=\"1\" class=\"dataframe\">\n",
       "  <thead>\n",
       "    <tr style=\"text-align: right;\">\n",
       "      <th></th>\n",
       "      <th>Nome</th>\n",
       "      <th>Cargo</th>\n",
       "      <th>Lotacao</th>\n",
       "      <th>Subsidio</th>\n",
       "      <th>Rendimento_Bruto</th>\n",
       "      <th>Rendimento_Liquido</th>\n",
       "    </tr>\n",
       "  </thead>\n",
       "  <tbody>\n",
       "    <tr>\n",
       "      <th>358</th>\n",
       "      <td>FABRICIO DORNAS CARATA</td>\n",
       "      <td>JS0002 JUIZ DE DIREITO SUBSTITUTO DO DF</td>\n",
       "      <td>99000007 APOSENTADOS</td>\n",
       "      <td>4238.57</td>\n",
       "      <td>4238.57</td>\n",
       "      <td>4101.62</td>\n",
       "    </tr>\n",
       "    <tr>\n",
       "      <th>55</th>\n",
       "      <td>ARIEL REY ORTIZ OLSTAN</td>\n",
       "      <td>JD0001 JUIZ DE DIREITO</td>\n",
       "      <td>99000007 APOSENTADOS</td>\n",
       "      <td>28947.55</td>\n",
       "      <td>28947.55</td>\n",
       "      <td>5219.31</td>\n",
       "    </tr>\n",
       "    <tr>\n",
       "      <th>54</th>\n",
       "      <td>JORGE CORREA RIERA</td>\n",
       "      <td>JD0001 JUIZ DE DIREITO</td>\n",
       "      <td>99000007 APOSENTADOS</td>\n",
       "      <td>16541.45</td>\n",
       "      <td>16541.45</td>\n",
       "      <td>12697.98</td>\n",
       "    </tr>\n",
       "    <tr>\n",
       "      <th>71</th>\n",
       "      <td>JOSE DE CAMPOS AMARAL</td>\n",
       "      <td>DD0001 DESEMBARGADOR</td>\n",
       "      <td>99000007 APOSENTADOS</td>\n",
       "      <td>21765.07</td>\n",
       "      <td>21765.07</td>\n",
       "      <td>15878.00</td>\n",
       "    </tr>\n",
       "    <tr>\n",
       "      <th>154</th>\n",
       "      <td>JOSE WELLINGTON MEDEIROS DE ARAUJO</td>\n",
       "      <td>DD0001 DESEMBARGADOR</td>\n",
       "      <td>99000007 APOSENTADOS</td>\n",
       "      <td>28778.32</td>\n",
       "      <td>28778.32</td>\n",
       "      <td>19879.70</td>\n",
       "    </tr>\n",
       "  </tbody>\n",
       "</table>\n",
       "</div>"
      ],
      "text/plain": [
       "                                   Nome  \\\n",
       "358              FABRICIO DORNAS CARATA   \n",
       "55               ARIEL REY ORTIZ OLSTAN   \n",
       "54                   JORGE CORREA RIERA   \n",
       "71                JOSE DE CAMPOS AMARAL   \n",
       "154  JOSE WELLINGTON MEDEIROS DE ARAUJO   \n",
       "\n",
       "                                       Cargo               Lotacao  Subsidio  \\\n",
       "358  JS0002 JUIZ DE DIREITO SUBSTITUTO DO DF  99000007 APOSENTADOS   4238.57   \n",
       "55                    JD0001 JUIZ DE DIREITO  99000007 APOSENTADOS  28947.55   \n",
       "54                    JD0001 JUIZ DE DIREITO  99000007 APOSENTADOS  16541.45   \n",
       "71                      DD0001 DESEMBARGADOR  99000007 APOSENTADOS  21765.07   \n",
       "154                     DD0001 DESEMBARGADOR  99000007 APOSENTADOS  28778.32   \n",
       "\n",
       "     Rendimento_Bruto  Rendimento_Liquido  \n",
       "358           4238.57             4101.62  \n",
       "55           28947.55             5219.31  \n",
       "54           16541.45            12697.98  \n",
       "71           21765.07            15878.00  \n",
       "154          28778.32            19879.70  "
      ]
     },
     "execution_count": 14,
     "metadata": {},
     "output_type": "execute_result"
    }
   ],
   "source": [
    "# E os 5 menores salários líquidos?\n",
    "df.nsmallest(5, \"Rendimento_Liquido\")"
   ]
  },
  {
   "cell_type": "code",
   "execution_count": 15,
   "metadata": {},
   "outputs": [
    {
     "data": {
      "text/html": [
       "<div>\n",
       "<style scoped>\n",
       "    .dataframe tbody tr th:only-of-type {\n",
       "        vertical-align: middle;\n",
       "    }\n",
       "\n",
       "    .dataframe tbody tr th {\n",
       "        vertical-align: top;\n",
       "    }\n",
       "\n",
       "    .dataframe thead th {\n",
       "        text-align: right;\n",
       "    }\n",
       "</style>\n",
       "<table border=\"1\" class=\"dataframe\">\n",
       "  <thead>\n",
       "    <tr style=\"text-align: right;\">\n",
       "      <th></th>\n",
       "      <th>Nome</th>\n",
       "      <th>Cargo</th>\n",
       "      <th>Lotacao</th>\n",
       "      <th>Subsidio</th>\n",
       "      <th>Rendimento_Bruto</th>\n",
       "      <th>Rendimento_Liquido</th>\n",
       "    </tr>\n",
       "  </thead>\n",
       "  <tbody>\n",
       "    <tr>\n",
       "      <th>0</th>\n",
       "      <td>DELEANE CAMARGO DE SANTANA FERNANDES</td>\n",
       "      <td>JD0001 JUIZ DE DIREITO</td>\n",
       "      <td>99000007 APOSENTADOS</td>\n",
       "      <td>28947.55</td>\n",
       "      <td>28947.55</td>\n",
       "      <td>20512.49</td>\n",
       "    </tr>\n",
       "    <tr>\n",
       "      <th>1</th>\n",
       "      <td>AVAY MIRANDA</td>\n",
       "      <td>JD0001 JUIZ DE DIREITO</td>\n",
       "      <td>99000007 APOSENTADOS</td>\n",
       "      <td>28947.55</td>\n",
       "      <td>34737.06</td>\n",
       "      <td>24052.25</td>\n",
       "    </tr>\n",
       "    <tr>\n",
       "      <th>2</th>\n",
       "      <td>EDUARDO ALBERTO DE MORAES OLIVEIRA</td>\n",
       "      <td>DD0001 DESEMBARGADOR</td>\n",
       "      <td>99000007 APOSENTADOS</td>\n",
       "      <td>30471.11</td>\n",
       "      <td>30471.11</td>\n",
       "      <td>21547.71</td>\n",
       "    </tr>\n",
       "    <tr>\n",
       "      <th>3</th>\n",
       "      <td>JOAO DE ASSIS MARIOSI</td>\n",
       "      <td>DD0001 DESEMBARGADOR</td>\n",
       "      <td>99000007 APOSENTADOS</td>\n",
       "      <td>30471.11</td>\n",
       "      <td>30471.11</td>\n",
       "      <td>27727.74</td>\n",
       "    </tr>\n",
       "    <tr>\n",
       "      <th>4</th>\n",
       "      <td>JOSE HILARIO BATISTA DE VASCONCELOS</td>\n",
       "      <td>DD0001 DESEMBARGADOR</td>\n",
       "      <td>99000007 APOSENTADOS</td>\n",
       "      <td>30471.11</td>\n",
       "      <td>30471.11</td>\n",
       "      <td>21495.57</td>\n",
       "    </tr>\n",
       "  </tbody>\n",
       "</table>\n",
       "</div>"
      ],
      "text/plain": [
       "                                   Nome                   Cargo  \\\n",
       "0  DELEANE CAMARGO DE SANTANA FERNANDES  JD0001 JUIZ DE DIREITO   \n",
       "1                          AVAY MIRANDA  JD0001 JUIZ DE DIREITO   \n",
       "2    EDUARDO ALBERTO DE MORAES OLIVEIRA    DD0001 DESEMBARGADOR   \n",
       "3                 JOAO DE ASSIS MARIOSI    DD0001 DESEMBARGADOR   \n",
       "4   JOSE HILARIO BATISTA DE VASCONCELOS    DD0001 DESEMBARGADOR   \n",
       "\n",
       "                Lotacao  Subsidio  Rendimento_Bruto  Rendimento_Liquido  \n",
       "0  99000007 APOSENTADOS  28947.55          28947.55            20512.49  \n",
       "1  99000007 APOSENTADOS  28947.55          34737.06            24052.25  \n",
       "2  99000007 APOSENTADOS  30471.11          30471.11            21547.71  \n",
       "3  99000007 APOSENTADOS  30471.11          30471.11            27727.74  \n",
       "4  99000007 APOSENTADOS  30471.11          30471.11            21495.57  "
      ]
     },
     "execution_count": 15,
     "metadata": {},
     "output_type": "execute_result"
    }
   ],
   "source": [
    "# Vamos separar os magistrados aposentados constantes na folha de pagamento do TJDFT\n",
    "# Nesse caso específico, quando o magistrado está aposentado esse termo aparece no campo Lotacao\n",
    "# Isso pode não ser verdade para os dados de outros tribunais\n",
    "# Vamos colocar o resultado da nossa seleção em outro dataframe\n",
    "df_aposentados = df[df.Lotacao.str.contains(\"APOSENTADOS\")]\n",
    "\n",
    "df_aposentados.head()"
   ]
  },
  {
   "cell_type": "code",
   "execution_count": 16,
   "metadata": {},
   "outputs": [
    {
     "data": {
      "text/plain": [
       "101"
      ]
     },
     "execution_count": 16,
     "metadata": {},
     "output_type": "execute_result"
    }
   ],
   "source": [
    "# Qual o número de aposentados na folha de pagamento do TJDFT?\n",
    "df_aposentados.Nome.count()"
   ]
  },
  {
   "cell_type": "code",
   "execution_count": 19,
   "metadata": {},
   "outputs": [
    {
     "name": "stdout",
     "output_type": "stream",
     "text": [
      "No TJDFT um magistrado aposentado recebe, em média, R$23288.17\n"
     ]
    }
   ],
   "source": [
    "# Qual o salário médio dos aposentados do TJDFT?\n",
    "print(\"No TJDFT um magistrado aposentado recebe, em média, R${0:.2f}\".format(df_aposentados.Rendimento_Liquido.mean()))"
   ]
  },
  {
   "cell_type": "code",
   "execution_count": 20,
   "metadata": {
    "scrolled": true
   },
   "outputs": [
    {
     "data": {
      "text/html": [
       "<div>\n",
       "<style scoped>\n",
       "    .dataframe tbody tr th:only-of-type {\n",
       "        vertical-align: middle;\n",
       "    }\n",
       "\n",
       "    .dataframe tbody tr th {\n",
       "        vertical-align: top;\n",
       "    }\n",
       "\n",
       "    .dataframe thead th {\n",
       "        text-align: right;\n",
       "    }\n",
       "</style>\n",
       "<table border=\"1\" class=\"dataframe\">\n",
       "  <thead>\n",
       "    <tr style=\"text-align: right;\">\n",
       "      <th></th>\n",
       "      <th>Nome</th>\n",
       "      <th>Cargo</th>\n",
       "      <th>Lotacao</th>\n",
       "      <th>Subsidio</th>\n",
       "      <th>Rendimento_Bruto</th>\n",
       "      <th>Rendimento_Liquido</th>\n",
       "    </tr>\n",
       "  </thead>\n",
       "  <tbody>\n",
       "    <tr>\n",
       "      <th>46</th>\n",
       "      <td>AMERICO PEDRO BIANCHINI</td>\n",
       "      <td>JD0001 JUIZ DE DIREITO</td>\n",
       "      <td>99000007 APOSENTADOS</td>\n",
       "      <td>28947.55</td>\n",
       "      <td>34737.06</td>\n",
       "      <td>31265.96</td>\n",
       "    </tr>\n",
       "    <tr>\n",
       "      <th>486</th>\n",
       "      <td>JURACI PEREZ MAGALHAES</td>\n",
       "      <td>JD0001 JUIZ DE DIREITO</td>\n",
       "      <td>99000007 APOSENTADOS</td>\n",
       "      <td>28947.55</td>\n",
       "      <td>34737.06</td>\n",
       "      <td>31265.96</td>\n",
       "    </tr>\n",
       "    <tr>\n",
       "      <th>480</th>\n",
       "      <td>OTAVIO AUGUSTO BARBOSA</td>\n",
       "      <td>DD0001 DESEMBARGADOR</td>\n",
       "      <td>99000007 APOSENTADOS</td>\n",
       "      <td>30471.11</td>\n",
       "      <td>35992.46</td>\n",
       "      <td>30657.52</td>\n",
       "    </tr>\n",
       "    <tr>\n",
       "      <th>13</th>\n",
       "      <td>RONAN ACACIO JACO</td>\n",
       "      <td>JD0001 JUIZ DE DIREITO</td>\n",
       "      <td>99000007 APOSENTADOS</td>\n",
       "      <td>30471.11</td>\n",
       "      <td>30471.11</td>\n",
       "      <td>28336.18</td>\n",
       "    </tr>\n",
       "    <tr>\n",
       "      <th>18</th>\n",
       "      <td>ASDRUBAL NASCIMENTO LIMA</td>\n",
       "      <td>DD0001 DESEMBARGADOR</td>\n",
       "      <td>99000007 APOSENTADOS</td>\n",
       "      <td>30471.11</td>\n",
       "      <td>30471.11</td>\n",
       "      <td>28336.18</td>\n",
       "    </tr>\n",
       "  </tbody>\n",
       "</table>\n",
       "</div>"
      ],
      "text/plain": [
       "                         Nome                   Cargo               Lotacao  \\\n",
       "46    AMERICO PEDRO BIANCHINI  JD0001 JUIZ DE DIREITO  99000007 APOSENTADOS   \n",
       "486    JURACI PEREZ MAGALHAES  JD0001 JUIZ DE DIREITO  99000007 APOSENTADOS   \n",
       "480    OTAVIO AUGUSTO BARBOSA    DD0001 DESEMBARGADOR  99000007 APOSENTADOS   \n",
       "13          RONAN ACACIO JACO  JD0001 JUIZ DE DIREITO  99000007 APOSENTADOS   \n",
       "18   ASDRUBAL NASCIMENTO LIMA    DD0001 DESEMBARGADOR  99000007 APOSENTADOS   \n",
       "\n",
       "     Subsidio  Rendimento_Bruto  Rendimento_Liquido  \n",
       "46   28947.55          34737.06            31265.96  \n",
       "486  28947.55          34737.06            31265.96  \n",
       "480  30471.11          35992.46            30657.52  \n",
       "13   30471.11          30471.11            28336.18  \n",
       "18   30471.11          30471.11            28336.18  "
      ]
     },
     "execution_count": 20,
     "metadata": {},
     "output_type": "execute_result"
    }
   ],
   "source": [
    "# Quais os maiores salários de magistrados aposentados?\n",
    "df_aposentados.nlargest(5, \"Rendimento_Liquido\")"
   ]
  },
  {
   "cell_type": "code",
   "execution_count": 21,
   "metadata": {},
   "outputs": [
    {
     "data": {
      "text/html": [
       "<div>\n",
       "<style scoped>\n",
       "    .dataframe tbody tr th:only-of-type {\n",
       "        vertical-align: middle;\n",
       "    }\n",
       "\n",
       "    .dataframe tbody tr th {\n",
       "        vertical-align: top;\n",
       "    }\n",
       "\n",
       "    .dataframe thead th {\n",
       "        text-align: right;\n",
       "    }\n",
       "</style>\n",
       "<table border=\"1\" class=\"dataframe\">\n",
       "  <thead>\n",
       "    <tr style=\"text-align: right;\">\n",
       "      <th></th>\n",
       "      <th>Nome</th>\n",
       "      <th>Cargo</th>\n",
       "      <th>Lotacao</th>\n",
       "      <th>Subsidio</th>\n",
       "      <th>Rendimento_Bruto</th>\n",
       "      <th>Rendimento_Liquido</th>\n",
       "    </tr>\n",
       "  </thead>\n",
       "  <tbody>\n",
       "    <tr>\n",
       "      <th>8</th>\n",
       "      <td>SANDOVAL GOMES DE OLIVEIRA</td>\n",
       "      <td>DD0001 DESEMBARGADOR</td>\n",
       "      <td>21050000088 GAB. DES. SANDOVAL GOMES DE OLIVEIRA</td>\n",
       "      <td>30471.11</td>\n",
       "      <td>39024.73</td>\n",
       "      <td>28705.08</td>\n",
       "    </tr>\n",
       "    <tr>\n",
       "      <th>9</th>\n",
       "      <td>ANGELO CANDUCCI PASSARELI</td>\n",
       "      <td>DD0001 DESEMBARGADOR</td>\n",
       "      <td>21050000056 GAB. DES. ANGELO CANDUCCI PASSARELI</td>\n",
       "      <td>30471.11</td>\n",
       "      <td>42376.55</td>\n",
       "      <td>30713.54</td>\n",
       "    </tr>\n",
       "    <tr>\n",
       "      <th>10</th>\n",
       "      <td>MARIO-ZAM BELMIRO ROSA</td>\n",
       "      <td>DD0001 DESEMBARGADOR</td>\n",
       "      <td>21050000044 GAB. DES. MARIO-ZAM BELMIRO ROSA</td>\n",
       "      <td>30471.11</td>\n",
       "      <td>42376.55</td>\n",
       "      <td>30609.27</td>\n",
       "    </tr>\n",
       "    <tr>\n",
       "      <th>12</th>\n",
       "      <td>MARIA DE FATIMA RAFAEL DE AGUIAR</td>\n",
       "      <td>DD0001 DESEMBARGADOR</td>\n",
       "      <td>21050000082 GAB. DESA. MARIA DE FATIMA RAFAEL ...</td>\n",
       "      <td>30471.11</td>\n",
       "      <td>46348.46</td>\n",
       "      <td>30609.27</td>\n",
       "    </tr>\n",
       "    <tr>\n",
       "      <th>14</th>\n",
       "      <td>ROMAO CICERO DE OLIVEIRA</td>\n",
       "      <td>DD0001 DESEMBARGADOR</td>\n",
       "      <td>21050000030 GAB. DES. ROMAO CICERO DE OLIVEIRA</td>\n",
       "      <td>30471.11</td>\n",
       "      <td>42376.55</td>\n",
       "      <td>30609.27</td>\n",
       "    </tr>\n",
       "  </tbody>\n",
       "</table>\n",
       "</div>"
      ],
      "text/plain": [
       "                                Nome                 Cargo  \\\n",
       "8         SANDOVAL GOMES DE OLIVEIRA  DD0001 DESEMBARGADOR   \n",
       "9          ANGELO CANDUCCI PASSARELI  DD0001 DESEMBARGADOR   \n",
       "10            MARIO-ZAM BELMIRO ROSA  DD0001 DESEMBARGADOR   \n",
       "12  MARIA DE FATIMA RAFAEL DE AGUIAR  DD0001 DESEMBARGADOR   \n",
       "14          ROMAO CICERO DE OLIVEIRA  DD0001 DESEMBARGADOR   \n",
       "\n",
       "                                              Lotacao  Subsidio  \\\n",
       "8    21050000088 GAB. DES. SANDOVAL GOMES DE OLIVEIRA  30471.11   \n",
       "9     21050000056 GAB. DES. ANGELO CANDUCCI PASSARELI  30471.11   \n",
       "10       21050000044 GAB. DES. MARIO-ZAM BELMIRO ROSA  30471.11   \n",
       "12  21050000082 GAB. DESA. MARIA DE FATIMA RAFAEL ...  30471.11   \n",
       "14     21050000030 GAB. DES. ROMAO CICERO DE OLIVEIRA  30471.11   \n",
       "\n",
       "    Rendimento_Bruto  Rendimento_Liquido  \n",
       "8           39024.73            28705.08  \n",
       "9           42376.55            30713.54  \n",
       "10          42376.55            30609.27  \n",
       "12          46348.46            30609.27  \n",
       "14          42376.55            30609.27  "
      ]
     },
     "execution_count": 21,
     "metadata": {},
     "output_type": "execute_result"
    }
   ],
   "source": [
    "# Agora vamos separar os desembargadores constantes na folha de pagamento do TJDFT\n",
    "# Nesse caso específico, quando o magistrado é desembargador esse termo aparece no campo Cargo\n",
    "# Isso pode não ser verdade para os dados de outros tribunais\n",
    "# Vamos colocar o resultado da nossa seleção em outro dataframe\n",
    "# mas agora devemos ter cuidado para separar apenas os desembargadores que estão na ativa\n",
    "df_desembargadores = df[(df.Cargo.str.contains(\"DESEMBARGADOR\")) & ~(df.Lotacao.str.contains(\"APOSENTADOS\"))]\n",
    "\n",
    "df_desembargadores.head()"
   ]
  },
  {
   "cell_type": "code",
   "execution_count": 22,
   "metadata": {},
   "outputs": [
    {
     "data": {
      "text/plain": [
       "48"
      ]
     },
     "execution_count": 22,
     "metadata": {},
     "output_type": "execute_result"
    }
   ],
   "source": [
    "# Qual o número de desembargadores na folha de pagamento do TJDFT?\n",
    "df_desembargadores.Nome.count()"
   ]
  },
  {
   "cell_type": "code",
   "execution_count": 25,
   "metadata": {},
   "outputs": [
    {
     "name": "stdout",
     "output_type": "stream",
     "text": [
      "No TJDFT um desembargador recebe, em média, R$29794.08\n"
     ]
    }
   ],
   "source": [
    "# Qual o salário médio dos desembargadores do TJDFT?\n",
    "print(\"No TJDFT um desembargador recebe, em média, R${0:.2f}\".format(df_desembargadores.Rendimento_Liquido.mean()))"
   ]
  },
  {
   "cell_type": "code",
   "execution_count": 26,
   "metadata": {},
   "outputs": [
    {
     "data": {
      "text/html": [
       "<div>\n",
       "<style scoped>\n",
       "    .dataframe tbody tr th:only-of-type {\n",
       "        vertical-align: middle;\n",
       "    }\n",
       "\n",
       "    .dataframe tbody tr th {\n",
       "        vertical-align: top;\n",
       "    }\n",
       "\n",
       "    .dataframe thead th {\n",
       "        text-align: right;\n",
       "    }\n",
       "</style>\n",
       "<table border=\"1\" class=\"dataframe\">\n",
       "  <thead>\n",
       "    <tr style=\"text-align: right;\">\n",
       "      <th></th>\n",
       "      <th>Nome</th>\n",
       "      <th>Cargo</th>\n",
       "      <th>Lotacao</th>\n",
       "      <th>Subsidio</th>\n",
       "      <th>Rendimento_Bruto</th>\n",
       "      <th>Rendimento_Liquido</th>\n",
       "    </tr>\n",
       "  </thead>\n",
       "  <tbody>\n",
       "    <tr>\n",
       "      <th>31</th>\n",
       "      <td>MARIO MACHADO VIEIRA NETTO</td>\n",
       "      <td>DD0002 DESEMBARGADOR PRESIDENTE</td>\n",
       "      <td>21050000028 GAB. DES. MARIO MACHADO VIEIRA NETTO</td>\n",
       "      <td>30471.11</td>\n",
       "      <td>42461.86</td>\n",
       "      <td>32700.44</td>\n",
       "    </tr>\n",
       "    <tr>\n",
       "      <th>266</th>\n",
       "      <td>FLAVIO RENATO JAQUET ROSTIROLA</td>\n",
       "      <td>DD0001 DESEMBARGADOR</td>\n",
       "      <td>21050000045 GAB. DES. FLAVIO RENATO JAQUET ROS...</td>\n",
       "      <td>30471.11</td>\n",
       "      <td>42877.89</td>\n",
       "      <td>31733.36</td>\n",
       "    </tr>\n",
       "    <tr>\n",
       "      <th>25</th>\n",
       "      <td>JOSE JACINTO COSTA CARVALHO</td>\n",
       "      <td>DD0006 DESEMBARGADOR SEGUNDO VICE-PRESIDENTE</td>\n",
       "      <td>21050000039 GAB. DES. JOSE JACINTO COSTA CARVALHO</td>\n",
       "      <td>30471.11</td>\n",
       "      <td>42376.55</td>\n",
       "      <td>31401.41</td>\n",
       "    </tr>\n",
       "    <tr>\n",
       "      <th>80</th>\n",
       "      <td>ESDRAS NEVES ALMEIDA</td>\n",
       "      <td>DD0001 DESEMBARGADOR</td>\n",
       "      <td>21050000089 GAB. DES. ESDRAS NEVES ALMEIDA</td>\n",
       "      <td>30471.11</td>\n",
       "      <td>45517.94</td>\n",
       "      <td>31306.33</td>\n",
       "    </tr>\n",
       "    <tr>\n",
       "      <th>251</th>\n",
       "      <td>HUMBERTO ADJUTO ULHOA</td>\n",
       "      <td>DD0005 DESEMBARGADOR PRIMEIRO VICE-PRESIDENTE</td>\n",
       "      <td>21050000037 GAB. DES. HUMBERTO ADJUTO ULHOA</td>\n",
       "      <td>30471.11</td>\n",
       "      <td>42376.55</td>\n",
       "      <td>31306.33</td>\n",
       "    </tr>\n",
       "  </tbody>\n",
       "</table>\n",
       "</div>"
      ],
      "text/plain": [
       "                               Nome  \\\n",
       "31       MARIO MACHADO VIEIRA NETTO   \n",
       "266  FLAVIO RENATO JAQUET ROSTIROLA   \n",
       "25      JOSE JACINTO COSTA CARVALHO   \n",
       "80             ESDRAS NEVES ALMEIDA   \n",
       "251           HUMBERTO ADJUTO ULHOA   \n",
       "\n",
       "                                             Cargo  \\\n",
       "31                 DD0002 DESEMBARGADOR PRESIDENTE   \n",
       "266                           DD0001 DESEMBARGADOR   \n",
       "25    DD0006 DESEMBARGADOR SEGUNDO VICE-PRESIDENTE   \n",
       "80                            DD0001 DESEMBARGADOR   \n",
       "251  DD0005 DESEMBARGADOR PRIMEIRO VICE-PRESIDENTE   \n",
       "\n",
       "                                               Lotacao  Subsidio  \\\n",
       "31    21050000028 GAB. DES. MARIO MACHADO VIEIRA NETTO  30471.11   \n",
       "266  21050000045 GAB. DES. FLAVIO RENATO JAQUET ROS...  30471.11   \n",
       "25   21050000039 GAB. DES. JOSE JACINTO COSTA CARVALHO  30471.11   \n",
       "80          21050000089 GAB. DES. ESDRAS NEVES ALMEIDA  30471.11   \n",
       "251        21050000037 GAB. DES. HUMBERTO ADJUTO ULHOA  30471.11   \n",
       "\n",
       "     Rendimento_Bruto  Rendimento_Liquido  \n",
       "31           42461.86            32700.44  \n",
       "266          42877.89            31733.36  \n",
       "25           42376.55            31401.41  \n",
       "80           45517.94            31306.33  \n",
       "251          42376.55            31306.33  "
      ]
     },
     "execution_count": 26,
     "metadata": {},
     "output_type": "execute_result"
    }
   ],
   "source": [
    "# Quais os maiores salários de desembargadores?\n",
    "df_desembargadores.nlargest(5, \"Rendimento_Liquido\")"
   ]
  },
  {
   "cell_type": "markdown",
   "metadata": {},
   "source": [
    "## Plotando gráficos\n",
    "\n",
    "A biblioteca **pandas** tem integração nativa com a biblioteca **matplotlib**, o que permite a plotagem de Series/DataFrames de forma facilitada. Neste caso, apenas chamamos o método hist() na coluna que queremos produzir o histograma e o gráfico é gerado. É importante customizar o gráfico por meio da biblioteca **matplotlib**, sempre lembrando de rotular os eixos."
   ]
  },
  {
   "cell_type": "code",
   "execution_count": 27,
   "metadata": {},
   "outputs": [
    {
     "data": {
      "image/png": "[encoded data removed]",
      "text/plain": [
       "<Figure size 432x288 with 1 Axes>"
      ]
     },
     "metadata": {},
     "output_type": "display_data"
    }
   ],
   "source": [
    "# Importando a biblioteca\n",
    "import matplotlib.pyplot as plt\n",
    "\n",
    "# e determinando que os graficos serão desenhados no próprio Jupyter Notebook\n",
    "%matplotlib inline\n",
    "\n",
    "# Vamos ver a distribuição dos rendimento líquidos\n",
    "df.Rendimento_Liquido.hist(bins=50)\n",
    "plt.title(\"Distribuicao por Salarios\")\n",
    "plt.ylabel('Qtde de Magistrados')\n",
    "plt.xlabel('Rendimento Líquido');"
   ]
  },
  {
   "cell_type": "code",
   "execution_count": null,
   "metadata": {},
   "outputs": [],
   "source": []
  }
 ],
 "metadata": {
  "kernelspec": {
   "display_name": "Python 3",
   "language": "python",
   "name": "python3"
  },
  "language_info": {
   "codemirror_mode": {
    "name": "ipython",
    "version": 3
   },
   "file_extension": ".py",
   "mimetype": "text/x-python",
   "name": "python",
   "nbconvert_exporter": "python",
   "pygments_lexer": "ipython3",
   "version": "3.6.5"
  }
 },
 "nbformat": 4,
 "nbformat_minor": 2
}
